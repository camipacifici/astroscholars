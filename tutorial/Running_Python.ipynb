{
 "cells": [
  {
   "cell_type": "markdown",
   "metadata": {},
   "source": [
    "## Day 1\n",
    "\n",
    "\n",
    "### Outline\n",
    "\n",
    "\n",
    "- What is a computer program?\n",
    "- What is Python?\n",
    "- How to run Python\n",
    "    - On the command line - scripts\n",
    "    - Interactively - ipython\n",
    "    - Jupyter notebooks\n"
   ]
  },
  {
   "cell_type": "markdown",
   "metadata": {},
   "source": [
    "#### What is a computer program?\n",
    "\n",
    "*From Wikipedia:*\n",
    "\n",
    "A **computer program** is a collection of instructions that performs a specific task when executed by a computer. Most computer devices require programs to function properly.\n",
    "\n",
    "A computer program is usually written by a computer programmer in a programming language. From the program in its human-readable form of source code, a **compiler** or assembler can derive machine code—a form consisting of instructions that the computer can directly execute. Alternatively, a computer program may be executed with the aid of an **interpreter**.\n",
    "\n",
    "A collection of computer programs, libraries, and related data are referred to as **software**. Computer programs may be categorized along functional lines, such as application software and system software. The underlying method used for some calculation or manipulation is known as an **algorithm**."
   ]
  },
  {
   "cell_type": "markdown",
   "metadata": {},
   "source": [
    "#### Python\n",
    "\n",
    "Python is an **interpreted**, high-level, general-purpose programming language. Created by Guido van Rossum and first released in 1991, Python's design philosophy emphasizes code readability with its notable use of **significant whitespace**.\n",
    "\n",
    "Python is **dynamically typed** and **garbage-collected** (a form of automatic memory management). It supports multiple programming paradigms, including procedural, object-oriented, and functional programming. \n",
    "\n"
   ]
  },
  {
   "cell_type": "markdown",
   "metadata": {},
   "source": [
    "Python is installed on most operating systems by default and is available as an executable on `PATH`. To start the Python interpreter type `python` at the ocmmand prompt\n",
    "\n",
    "```\n",
    "% python\n",
    "Python 3.7.4 (default, Aug 13 2019, 15:17:50) \n",
    "[Clang 4.0.1 (tags/RELEASE_401/final)] :: Anaconda, Inc. on darwin\n",
    "Type \"help\", \"copyright\", \"credits\" or \"license\" for more information.\n",
    ">>>\n",
    "```\n",
    "\n",
    "The `>>>` indicates that Python is ready to accept commands. If you type \n",
    "`a = 1` then press `Enter`, this will assign the value 1 to a. If you then \n",
    "type `a` you will see the value of `a` (this is equivalent to `print(a)`):\n",
    "\n",
    "```\n",
    ">>> a = 1\n",
    ">>> a\n",
    "1\n",
    "```\n",
    "\n",
    "To exit the interpreter type at the prompt\n",
    "\n",
    "```\n",
    ">>> quit()\n",
    "```\n",
    "\n",
    "Alternatively `Ctrl-D` (on *nix) or `Ctrl-Z` (Win) quits the interpreter."
   ]
  },
  {
   "cell_type": "markdown",
   "metadata": {},
   "source": [
    "#### IPython\n",
    "\n",
    "The default Python shell is limited, and in practice, you will want instead to use the IPython (or interactive Python) shell. This is an add-on package that adds many features to the default Python shell."
   ]
  },
  {
   "cell_type": "markdown",
   "metadata": {},
   "source": [
    "`IPython` provides a powerful interactive shell for running Python programs. Some of its advantages are\n",
    "\n",
    "    - keeps the history of a session\n",
    "    - commands can be recalled after a session is terminated and a new session is started\n",
    "    - provides convenient tool for performance timing \n",
    "    - provides other \"magic\" commands  \n",
    "    \n",
    "To start the ipython interpreter at the command line type `ipython`:\n",
    "\n",
    "```\n",
    "% ipython\n",
    "Python 3.7.4 (default, Aug 13 2019, 15:17:50) \n",
    "Type 'copyright', 'credits' or 'license' for more information\n",
    "IPython 7.9.0 -- An enhanced Interactive Python. Type '?' for help.\n",
    "\n",
    "In [1]: a=1\n",
    "In [2]: a                                                                                                             \n",
    "Out[2]: 1                   \n",
    "```\n"
   ]
  },
  {
   "cell_type": "markdown",
   "metadata": {},
   "source": [
    "#### Running scripts\n",
    "\n",
    "While the interactive Python mode is very useful to exploring and trying out code, you will eventually want to write a script to record and reproduce what you did, or to do things that are too complex to type in interactively (defining functions, classes, etc.). To write a Python script, just use your favorite code editor to put the code in a file with a .py extension. For example, we can create a file called test.py containing:\n",
    "\n",
    "```\n",
    "a = 1\n",
    "print(a)\n",
    "```\n",
    "\n",
    "We can then run the script on the command-line with:\n",
    "```\n",
    "% python test.py\n",
    "1\n",
    "```"
   ]
  },
  {
   "cell_type": "markdown",
   "metadata": {},
   "source": [
    "#### Jupyter notebooks\n",
    "\n",
    "The **Jupyter notebook** allows you to include text, code, and plots in the same document.\n",
    "It is a very powerful way to write and execute Python programs while reproducing and sharing code, data and results.\n",
    "\n",
    "On the command line type \n",
    "\n",
    "```\n",
    "% jupyter notebook\n",
    "```\n",
    "\n",
    "Once you do this, a web browser opens a page showing a folder (the *root* folder of the current session). To start a new notebook, click on `New` in the upper right corner and choose `Python3`. This will start a new notebook. \n",
    "\n",
    "Each notebook consists of a number of cells. Cells can execute code or are `Markdown` where formatted text can be entered. A cell can be \"executed\" by pressing `Shift-Enter` at the same time. This will run the code in the cell. You can modify the cell and pressing `Shift-Enter` will execute the modified code.\n"
   ]
  },
  {
   "cell_type": "markdown",
   "metadata": {},
   "source": [
    "#### Python is a dynamically typed language"
   ]
  },
  {
   "cell_type": "markdown",
   "metadata": {},
   "source": [
    "#### Garbage Collection"
   ]
  },
  {
   "cell_type": "markdown",
   "metadata": {},
   "source": [
    "#### Signifficant white space"
   ]
  },
  {
   "cell_type": "markdown",
   "metadata": {},
   "source": [
    "**How to look at documentation**\n",
    "\n",
    "Typing <object.>TAB\""
   ]
  },
  {
   "cell_type": "code",
   "execution_count": 9,
   "metadata": {},
   "outputs": [],
   "source": [
    "s = \"I am a string\"\n",
    "#s."
   ]
  },
  {
   "cell_type": "code",
   "execution_count": 11,
   "metadata": {},
   "outputs": [],
   "source": [
    "s?"
   ]
  },
  {
   "cell_type": "code",
   "execution_count": 10,
   "metadata": {},
   "outputs": [
    {
     "name": "stdout",
     "output_type": "stream",
     "text": [
      "No Python documentation found for 'I am a string'.\n",
      "Use help() to get the interactive help utility.\n",
      "Use help(str) for help on the str class.\n",
      "\n"
     ]
    }
   ],
   "source": [
    "help(s)"
   ]
  },
  {
   "cell_type": "markdown",
   "metadata": {},
   "source": [
    "### Scientific Python Documentation References and Tutorials\n",
    "\n",
    "- \"Python For Data Science\" - an excellent book by Jake Van \n",
    "https://jakevdp.github.io/PythonDataScienceHandbook/02.01-understanding-data-types.html\n",
    "\n",
    "- Python Documentation\n",
    "\n",
    "- Numpy Documentation\n",
    "\n",
    "- Matplotlib\n",
    "\n",
    "- Astropy"
   ]
  },
  {
   "cell_type": "code",
   "execution_count": null,
   "metadata": {},
   "outputs": [],
   "source": []
  }
 ],
 "metadata": {
  "kernelspec": {
   "display_name": "Python 3",
   "language": "python",
   "name": "python3"
  },
  "language_info": {
   "codemirror_mode": {
    "name": "ipython",
    "version": 3
   },
   "file_extension": ".py",
   "mimetype": "text/x-python",
   "name": "python",
   "nbconvert_exporter": "python",
   "pygments_lexer": "ipython3",
   "version": "3.7.4"
  }
 },
 "nbformat": 4,
 "nbformat_minor": 2
}
