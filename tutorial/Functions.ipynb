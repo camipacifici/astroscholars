{
 "cells": [
  {
   "cell_type": "markdown",
   "metadata": {},
   "source": [
    "## Day 3\n",
    "\n",
    "### Outline\n",
    "\n",
    "- More control flow\n",
    "- Dictionaries, Boolean\n",
    "- Functions"
   ]
  },
  {
   "cell_type": "markdown",
   "metadata": {},
   "source": [
    "### More control flow - conditional code execution\n",
    "\n",
    "\n",
    "Perhaps the most well-known statement type is the if statement. For example:"
   ]
  },
  {
   "cell_type": "code",
   "execution_count": 19,
   "metadata": {},
   "outputs": [
    {
     "name": "stdout",
     "output_type": "stream",
     "text": [
      "1\n",
      "5\n",
      "2\n",
      "34\n",
      "4\n"
     ]
    }
   ],
   "source": [
    "l = [1, 5, 2, 89, 34, 56, 4]\n",
    "\n",
    "for n in l:\n",
    "    if n < 50:\n",
    "        print(n)"
   ]
  },
  {
   "cell_type": "markdown",
   "metadata": {},
   "source": [
    "### Dictionaries\n",
    "\n",
    "Another useful data type built into Python is the dictionary (see Mapping Types — dict). Unlike sequences, which are indexed by a range of numbers, dictionaries are indexed by keys, which can be any immutable type; strings and numbers can always be keys. \n",
    "\n",
    "It is best to think of a dictionary as a set of key: value pairs, with the requirement that the keys are unique (within one dictionary). A pair of braces creates an empty dictionary: {}. Placing a comma-separated list of key:value pairs within the braces adds initial key:value pairs to the dictionary; this is also the way dictionaries are written on output."
   ]
  },
  {
   "cell_type": "code",
   "execution_count": 22,
   "metadata": {},
   "outputs": [
    {
     "name": "stdout",
     "output_type": "stream",
     "text": [
      "{'Milky way': 'galaxy', 'Jupiter': 'planet', 'Sun': 'star', 'Betelgeuse': 'star', 'Ceres': 'asteroid', 'Earth': 'planet', 'Andromeda': 'galaxy', 'Mars': 'planet', 'Venus': 'planet'}\n"
     ]
    }
   ],
   "source": [
    "d = {\"Milky way\": \"galaxy\", \"Jupiter\": \"planet\", \"Sun\": \"star\", \"Betelgeuse\": \"star\", \n",
    "     \"Ceres\": \"asteroid\", \"Earth\": \"planet\", \"Andromeda\": \"galaxy\", \"Mars\": \"planet\",\n",
    "     \"Venus\": \"planet\"}\n",
    "     \n",
    "print(d)"
   ]
  },
  {
   "cell_type": "code",
   "execution_count": 23,
   "metadata": {},
   "outputs": [
    {
     "data": {
      "text/plain": [
       "dict_keys(['Milky way', 'Jupiter', 'Sun', 'Betelgeuse', 'Ceres', 'Earth', 'Andromeda', 'Mars', 'Venus'])"
      ]
     },
     "execution_count": 23,
     "metadata": {},
     "output_type": "execute_result"
    }
   ],
   "source": [
    "d.keys()"
   ]
  },
  {
   "cell_type": "code",
   "execution_count": 24,
   "metadata": {},
   "outputs": [
    {
     "data": {
      "text/plain": [
       "dict_values(['galaxy', 'planet', 'star', 'star', 'asteroid', 'planet', 'galaxy', 'planet', 'planet'])"
      ]
     },
     "execution_count": 24,
     "metadata": {},
     "output_type": "execute_result"
    }
   ],
   "source": [
    "d.values()"
   ]
  },
  {
   "cell_type": "markdown",
   "metadata": {},
   "source": [
    "**Exercise:**\n",
    "\n",
    "Print the names of all galaxies in **d**.\n",
    "\n",
    "- using a **for** loop\n",
    "- using list comprehension"
   ]
  },
  {
   "cell_type": "code",
   "execution_count": 25,
   "metadata": {},
   "outputs": [
    {
     "name": "stdout",
     "output_type": "stream",
     "text": [
      "Milky way\n",
      "Andromeda\n"
     ]
    }
   ],
   "source": [
    "for k in d:\n",
    "    if d[k] == \"galaxy\":\n",
    "        print(k)"
   ]
  },
  {
   "cell_type": "code",
   "execution_count": 26,
   "metadata": {},
   "outputs": [
    {
     "data": {
      "text/plain": [
       "['Milky way', 'Andromeda']"
      ]
     },
     "execution_count": 26,
     "metadata": {},
     "output_type": "execute_result"
    }
   ],
   "source": [
    "[k for k in d if d[k]=='galaxy']"
   ]
  },
  {
   "cell_type": "markdown",
   "metadata": {},
   "source": [
    "Count the number of each astronomical object in our dictionary:"
   ]
  },
  {
   "cell_type": "code",
   "execution_count": 28,
   "metadata": {},
   "outputs": [
    {
     "name": "stdout",
     "output_type": "stream",
     "text": [
      "Number of planets is 4\n",
      "Number o fgalaxies is 2\n",
      "Number of asteroids is 1\n"
     ]
    }
   ],
   "source": [
    "nplanet = 0\n",
    "ngalaxy = 0\n",
    "nasteroid = 0\n",
    "for k in d:\n",
    "    if d[k] == \"planet\":\n",
    "        nplanet += 1\n",
    "    elif d[k] == \"galaxy\":\n",
    "        ngalaxy += 1\n",
    "    elif d[k] == \"asteroid\":\n",
    "        nasteroid += 1\n",
    "    else:\n",
    "        pass\n",
    "    \n",
    "print(f\"Number of planets is {nplanet}\")\n",
    "print(f\"Number o fgalaxies is {ngalaxy}\")\n",
    "\n",
    "print(f\"Number of asteroids is {nasteroid}\")\n",
    "    "
   ]
  },
  {
   "cell_type": "markdown",
   "metadata": {},
   "source": [
    "#### Functions\n",
    "\n"
   ]
  }
 ],
 "metadata": {
  "kernelspec": {
   "display_name": "Python 3",
   "language": "python",
   "name": "python3"
  },
  "language_info": {
   "codemirror_mode": {
    "name": "ipython",
    "version": 3
   },
   "file_extension": ".py",
   "mimetype": "text/x-python",
   "name": "python",
   "nbconvert_exporter": "python",
   "pygments_lexer": "ipython3",
   "version": "3.7.4"
  }
 },
 "nbformat": 4,
 "nbformat_minor": 2
}
