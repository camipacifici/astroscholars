{
 "cells": [
  {
   "cell_type": "markdown",
   "metadata": {},
   "source": [
    "# Day 1\n",
    "\n",
    "### Download an image from the archive, display it and find sources in it."
   ]
  },
  {
   "cell_type": "markdown",
   "metadata": {},
   "source": [
    "- Download an image from the Hubble archive (either from the web interface or with astroquery)\n",
    "- Display the image in \n",
    "  - ds9 (play with ds9 features)\n",
    "  - astropy.wcsaxes\n",
    "    - overlay the coordinate system grid on the image\n",
    "- Use photutils.daofind to find objects in the image\n",
    "- Make a table with x, y coordinates of the object\n",
    "- Transform to RA, DEC\n",
    "- Talk about astropy.table (stretch goal)\n",
    "- Clean up notebook and get it ready for presentation"
   ]
  },
  {
   "cell_type": "markdown",
   "metadata": {},
   "source": [
    "### What you will learn\n",
    "\n",
    "- Get familiar with the archive web page and how to download data\n",
    "- (stretch goal) Learn how to run astroquery\n",
    "- Learn how to display images in ds9 and wcsaxes\n",
    "- Learn photutils.daofind\n",
    "- Learn how to transform from pixel to world coordinates"
   ]
  },
  {
   "cell_type": "markdown",
   "metadata": {},
   "source": [
    "# Day 2\n",
    "\n",
    "### Spherical coordinates"
   ]
  },
  {
   "cell_type": "markdown",
   "metadata": {},
   "source": [
    "- Explain RA, DEC\n",
    "  - Spherical systems\n",
    "  - Ecliptic system\n",
    "  - Other spherial coordinate systems\n",
    "- Use astropy.coordinates to transform RA, DEC to Galactic coordinates\n",
    "- Overlay galactic grid over the wcsaxes image\n",
    "- Clean up notebook and get it ready for presentation"
   ]
  },
  {
   "cell_type": "markdown",
   "metadata": {},
   "source": [
    "### What you will learn\n",
    "\n",
    "- Coordinates on a sphere\n",
    "- Celestial coordinate systems\n",
    "- Learn how to transform between coordinate systems using astropy.coordinates\n",
    "\n",
    "Add links to more info\n",
    "\n",
    "orange"
   ]
  },
  {
   "cell_type": "markdown",
   "metadata": {},
   "source": [
    "# Day 3\n",
    "\n",
    "### Transform from Cartesian to spherical coordinates"
   ]
  },
  {
   "cell_type": "markdown",
   "metadata": {},
   "source": [
    "- How do we get from the image plane coordinates to spherical coordinates?\n",
    "- Projections\n",
    "- Write a script which creates a projection, wraps it in a WCS object and displays it in wcsaxes.\n",
    "- Rewrite the script as a function which takes a projection (or projection code) and displays the image \n",
    "  and saves it to disk.\n",
    "- Clean up notebook and get it ready for presentation"
   ]
  },
  {
   "cell_type": "markdown",
   "metadata": {},
   "source": [
    "### What you will learn\n",
    "\n",
    "- Spherical projections\n",
    "- Write and execute a python script\n",
    "- Write a python function and call it from a script"
   ]
  },
  {
   "cell_type": "markdown",
   "metadata": {},
   "source": [
    "# Day 4\n",
    "\n",
    "### Submit a documentaiton Pull Request (PR) to the astropy project with an image of a projection"
   ]
  },
  {
   "cell_type": "markdown",
   "metadata": {},
   "source": [
    "- Each student is assigned one projection.\n",
    "- They will run the function created in Part 3 and create the plot\n",
    "- Each one will submit the plot to astropy's documentation project (stretch goal).\n"
   ]
  },
  {
   "cell_type": "markdown",
   "metadata": {},
   "source": [
    "### What you will learn\n",
    "\n",
    "- Why is version control important?\n",
    "- Get familiar with Github\n",
    "- What is open source software and open source development?\n",
    "- Submit a PR to astropy with the results from Part 3"
   ]
  },
  {
   "cell_type": "markdown",
   "metadata": {},
   "source": [
    "## Notes\n",
    "\n",
    "Students will work in a team in parts 1, 2, and 3. The work will be done in jupyter notebooks.\n",
    "Since everything will be documented in a notebook it will serve as a presentation. Essentially each student \n",
    "will present one part.\n",
    "\n",
    "In part 4 everyone will work individually to submit a PR to astropy.\n",
    "This is a stretch goal and depends on how well we stick to the schedule in the previous parts.\n",
    "If most of the work si done in Part 4 I'll be available to help them with the PR after the school if anyone is interested in finishing it."
   ]
  },
  {
   "cell_type": "code",
   "execution_count": null,
   "metadata": {},
   "outputs": [],
   "source": []
  }
 ],
 "metadata": {
  "kernelspec": {
   "display_name": "Python 3",
   "language": "python",
   "name": "python3"
  },
  "language_info": {
   "codemirror_mode": {
    "name": "ipython",
    "version": 3
   },
   "file_extension": ".py",
   "mimetype": "text/x-python",
   "name": "python",
   "nbconvert_exporter": "python",
   "pygments_lexer": "ipython3",
   "version": "3.7.4"
  }
 },
 "nbformat": 4,
 "nbformat_minor": 2
}
